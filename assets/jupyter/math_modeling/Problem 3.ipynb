{
 "cells": [
  {
   "cell_type": "markdown",
   "id": "b5d8fc93",
   "metadata": {},
   "source": [
    "# Mathematical Modeling Lab @ Constructor University \n",
    "\n",
    "\n",
    "$\\text{A joint-work between Omar Elshinawy & Mohammad Habibi-Bennani, this project was completed in Spring of 2024 for a class in Mathematical }$\n",
    "$\\text{Modeling at Constructor University, under Professor Ivan Ovsyannikov and Mr Dzmitry Rumiantsau. }$"
   ]
  },
  {
   "cell_type": "markdown",
   "id": "b9a96cee",
   "metadata": {},
   "source": [
    "We start by importing the very basic libraries for this project."
   ]
  },
  {
   "cell_type": "code",
   "execution_count": 1,
   "id": "bfbb03a2",
   "metadata": {},
   "outputs": [],
   "source": [
    "import numpy as np\n",
    "import matplotlib.pyplot as plt"
   ]
  },
  {
   "cell_type": "markdown",
   "id": "ffc72cbc",
   "metadata": {},
   "source": [
    "$\\textbf{Problem 3}$ \n",
    "\n",
    "The heat equation describes how heat diffuses through a given region over\n",
    "time. In two dimensions, it is given by\n",
    "\n",
    "$$\\frac{\\partial u}{\\partial t} = \\alpha \\left( \\frac{\\partial^2 u}{\\partial x^2} + \\frac{\\partial^2 u}{\\partial y^2} \\right)$$\n",
    "\n",
    "where $u(t, x, y)$ represents the temperature at point $(x, y)$ and time $t$, and $\\alpha$ is the thermal diffusivity constant that determines how quickly heat spreads through the material. We are given the following boundary and initial conditions.\n",
    "\n",
    "$$u(t, x, y) = \\begin{cases}\n",
    "0, \\quad \\quad ~~~~~t = 0; ~~~~~x,y \\in (0, 100)\\\\\n",
    "0, \\quad \\quad ~~~~x = 0; ~~~~~~~~~y \\in (0, 100)\\\\\n",
    "0, \\quad \\quad ~~~~x=100; ~~~~~y \\in (0, 100)\\\\\n",
    "200, \\quad \\quad y=0; ~~~~~~~~~x \\in [0,100]\\\\\n",
    "200, \\quad \\quad y=100; ~~~~~x \\in [0, 100]\\\\\n",
    "\\end{cases}$$"
   ]
  },
  {
   "cell_type": "markdown",
   "id": "3f09af14",
   "metadata": {},
   "source": [
    "$\\textbf{A Prelude.}$ To start, our system is defined on a $[0,100] \\times [0,100]$-sized rectangle. Thus it is clear that\n",
    "\n",
    "$Lx = Ly = 100$ are the dimensions of the simulation domain $\\implies nx = ny = 101$ is the number of grid points along the x- and y-directions."
   ]
  },
  {
   "cell_type": "code",
   "execution_count": 2,
   "id": "43ff7b80",
   "metadata": {},
   "outputs": [],
   "source": [
    "Lx, Ly = 100, 100\n",
    "nx, ny = Lx+1, Ly+1"
   ]
  },
  {
   "cell_type": "markdown",
   "id": "82274451",
   "metadata": {},
   "source": [
    "Let us assume further that the thermal diffusivity constant $\\alpha$ is equal to $3$."
   ]
  },
  {
   "cell_type": "code",
   "execution_count": 3,
   "id": "c38dbc41",
   "metadata": {},
   "outputs": [],
   "source": [
    "alpha = 3"
   ]
  },
  {
   "cell_type": "markdown",
   "id": "89ad3618",
   "metadata": {},
   "source": [
    "$\\textbf{a) Parameters}$ We now make the following choices,\n",
    "\n",
    "- $dx = \\frac{Lx}{nx-1}, ~ dy=\\frac{Ly}{ny-1}$ is the grid spacing in the x- and y-directions\n",
    "- $dt = 0.01$ is the step size;\n",
    "- $nt = 1000$ is the total number of steps."
   ]
  },
  {
   "cell_type": "code",
   "execution_count": 4,
   "id": "a5d0ba27",
   "metadata": {},
   "outputs": [],
   "source": [
    "dx = Lx / (nx - 1)\n",
    "dy = Ly / (ny - 1)\n",
    "dt = 0.01  \n",
    "nt = 1000 "
   ]
  },
  {
   "cell_type": "markdown",
   "id": "8eb8a34e",
   "metadata": {},
   "source": [
    "$\\textbf{a) Initialization}$ Now that we know the number data points in $x,y,z$ we can define $u(t, x, y)$ properly. It is easy to see that `u = np.zeros((nt, nx, ny))` respects the number of points in each variable."
   ]
  },
  {
   "cell_type": "code",
   "execution_count": 5,
   "id": "9805eb69",
   "metadata": {},
   "outputs": [],
   "source": [
    "u = np.zeros((nt, nx, ny))"
   ]
  },
  {
   "cell_type": "markdown",
   "id": "bbaa028c",
   "metadata": {},
   "source": [
    "$\\textbf{c) Boundary Conditions}$ As imposed by the problem, we have that\n",
    "\n",
    "$$\\begin{align}\n",
    "u(t, x, 0) &= 200\\\\ \n",
    "u(t, x, Ly = 100) &= 200\\\\\n",
    "u(t, 0, y) &= 0\\\\\n",
    "u(t, 100, y) &= 0\\\\\n",
    "u(0, x, y) &= 0\\\\\n",
    "\\end{align}$$"
   ]
  },
  {
   "cell_type": "code",
   "execution_count": 6,
   "id": "9c2f37e5",
   "metadata": {},
   "outputs": [],
   "source": [
    "u[:, :, 0] = 200  # y = 0\n",
    "u[:, :, -1] = 200  # y = 100 = Ly\n",
    "u[:, 0, :] = 0  # x = 0\n",
    "u[:, -1, :] = 0  # x = 100 = Lx\n",
    "u[0, :, :] = 0 # t = 0"
   ]
  },
  {
   "cell_type": "markdown",
   "id": "fbb77de4",
   "metadata": {},
   "source": [
    "This is fairly straightforward, though one must pay great attention to $e.g.$ the $<$ and $\\leq$ differences in each condition."
   ]
  },
  {
   "cell_type": "markdown",
   "id": "0ae9be93",
   "metadata": {},
   "source": [
    "$\\textbf{d) Time-stepping Loop}$ Here we update the temperature values using the finite difference method. The update formula for the temperature at each grid point $(i, j)$ is\n",
    "\n",
    "\\begin{equation}\n",
    "u_{i,j}^{n+1} = u_{i,j}^{n} + \\alpha \\cdot dt \\cdot \\left( \\frac{u_{i+1,j}^{n} - 2u_{i,j}^{n} + u_{i-1,j}^{n}}{dx^2} + \\frac{u_{i,j+1}^{n} - 2u_{i,j}^{n} + u_{i,j-1}^{n}}{dy^2} \\right).\n",
    "\\end{equation}\n",
    "\n",
    "This discretization approximates the second-order derivatives in the heat equation. Boundary conditions are enforced at each time step."
   ]
  },
  {
   "cell_type": "code",
   "execution_count": 7,
   "id": "a91f3d2e",
   "metadata": {},
   "outputs": [],
   "source": [
    "# Time-stepping loop\n",
    "for n in range(0, nt-1):\n",
    "    u[n+1, 1:-1, 1:-1] = (u[n, 1:-1, 1:-1] + \n",
    "                          alpha * dt * (\n",
    "                              (u[n, 2:, 1:-1] - 2 * u[n, 1:-1, 1:-1] + u[n, :-2, 1:-1]) / dx**2 +\n",
    "                              (u[n, 1:-1, 2:] - 2 * u[n, 1:-1, 1:-1] + u[n, 1:-1, :-2]) / dy**2\n",
    "                          ))\n",
    "    # Boundary conditions are already enforced by initialization\n",
    "    u[n+1, :, 0] = 200\n",
    "    u[n+1, :, -1] = 200\n",
    "    u[n+1, 0, :] = 0\n",
    "    u[n+1, -1, :] = 0"
   ]
  },
  {
   "cell_type": "markdown",
   "id": "bf7c519a",
   "metadata": {},
   "source": [
    "$\\textbf{e) Plot}$ We are ready to plot the temperature distribution at the final time step using a contour plot. \n",
    "- `meshgrid` function creates a grid for plotting; \n",
    "- `contourf` generates nicely filled contour plots;   \n",
    "\n",
    "We even add a nice `hot` color to visually represent the temperature distribution."
   ]
  },
  {
   "cell_type": "code",
   "execution_count": 8,
   "id": "e1142641",
   "metadata": {},
   "outputs": [
    {
     "data": {
      "image/png": "[encoded data removed]",
      "text/plain": [
       "<Figure size 800x600 with 2 Axes>"
      ]
     },
     "metadata": {},
     "output_type": "display_data"
    }
   ],
   "source": [
    "# Plot the final temperature distribution\n",
    "X, Y = np.meshgrid(np.linspace(0, Lx, nx), np.linspace(0, Ly, ny))\n",
    "plt.figure(figsize=(8, 6))\n",
    "plt.contourf(X, Y, u[-1, :, :], 20, cmap='hot')\n",
    "plt.colorbar()\n",
    "plt.title('Temperature distribution at t = {}'.format(nt*dt))\n",
    "plt.xlabel('x')\n",
    "plt.ylabel('y')\n",
    "plt.show()"
   ]
  },
  {
   "cell_type": "markdown",
   "id": "0f1f66b4",
   "metadata": {},
   "source": [
    "It looks like we just solved a second-order PDEs numerically. You can of course feel free to play with the parameters for yourself and see the effect it bears on the system. The authors highly recommend this, as the results are, to a great extent, visually appealing. $\\square$"
   ]
  }
 ],
 "metadata": {
  "kernelspec": {
   "display_name": "Python 3 (ipykernel)",
   "language": "python",
   "name": "python3"
  },
  "language_info": {
   "codemirror_mode": {
    "name": "ipython",
    "version": 3
   },
   "file_extension": ".py",
   "mimetype": "text/x-python",
   "name": "python",
   "nbconvert_exporter": "python",
   "pygments_lexer": "ipython3",
   "version": "3.11.5"
  }
 },
 "nbformat": 4,
 "nbformat_minor": 5
}
